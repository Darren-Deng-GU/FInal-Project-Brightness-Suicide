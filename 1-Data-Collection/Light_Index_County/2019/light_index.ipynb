{
 "cells": [
  {
   "cell_type": "code",
   "execution_count": null,
   "metadata": {},
   "outputs": [],
   "source": [
    "import pandas as pd\n",
    "from geopy.distance import geodesic\n",
    "\n",
    "# Load data\n",
    "light_pollution = pd.read_csv('light_pollution_2019.csv')\n",
    "county_coords = pd.read_csv('GEOINFO2023.GEOINFO-Data.csv')\n",
    "\n",
    "# Make sure the latitude and longitude columns are floating point numbers\n",
    "county_coords['INTPTLAT'] = pd.to_numeric(county_coords['INTPTLAT'], errors='coerce')\n",
    "county_coords['INTPTLON'] = pd.to_numeric(county_coords['INTPTLON'], errors='coerce')\n",
    "light_pollution['Latitude'] = pd.to_numeric(light_pollution['Latitude'], errors='coerce')\n",
    "light_pollution['Longitude'] = pd.to_numeric(light_pollution['Longitude'], errors='coerce')\n",
    "\n",
    "# NaNCheck if there are any invalid values ​​(NaN)\n",
    "print(county_coords[['INTPTLAT', 'INTPTLON']].isnull().sum())\n",
    "print(light_pollution[['Latitude', 'Longitude']].isnull().sum())\n",
    "\n",
    "county_coords = county_coords.dropna(subset=['INTPTLAT', 'INTPTLON'])\n",
    "\n",
    "\n",
    "light_pollution['Nearest_County'] = light_pollution.apply(\n",
    "    lambda row: find_nearest_county(row, county_coords), axis=1\n",
    ")\n",
    "\n",
    "# # Traverse the light pollution data and find the nearest county\n",
    "def find_nearest_county(row, counties):\n",
    "    light_point = (row['Latitude'], row['Longitude'])\n",
    "    min_distance = float('inf')\n",
    "    nearest_county = None\n",
    "    for _, county in counties.iterrows():\n",
    "        county_center = (county['INTPTLAT'], county['INTPTLON'])\n",
    "        distance = geodesic(light_point, county_center).km\n",
    "        if distance < min_distance:\n",
    "            min_distance = distance\n",
    "            nearest_county = county['NAME']\n",
    "    return nearest_county\n",
    "\n",
    "light_pollution['Nearest_County'] = light_pollution.apply(\n",
    "    lambda row: find_nearest_county(row, county_coords), axis=1\n",
    ")\n",
    "\n",
    "# Aggregate data\n",
    "county_light_pollution = light_pollution.groupby('Nearest_County')['Brightness'].sum().reset_index()\n",
    "\n",
    "county_light_pollution.to_csv('county_light_pollution_2019.csv', index=False)\n",
    "\n",
    "print(\"光污染数据按县聚合完成并保存。\")\n"
   ]
  }
 ],
 "metadata": {
  "kernelspec": {
   "display_name": "base",
   "language": "python",
   "name": "python3"
  },
  "language_info": {
   "codemirror_mode": {
    "name": "ipython",
    "version": 3
   },
   "file_extension": ".py",
   "mimetype": "text/x-python",
   "name": "python",
   "nbconvert_exporter": "python",
   "pygments_lexer": "ipython3",
   "version": "3.12.7"
  }
 },
 "nbformat": 4,
 "nbformat_minor": 2
}
