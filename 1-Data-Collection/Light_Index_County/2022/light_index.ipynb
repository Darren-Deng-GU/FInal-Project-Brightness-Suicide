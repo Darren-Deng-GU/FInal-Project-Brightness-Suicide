{
 "cells": [
  {
   "cell_type": "code",
   "execution_count": 14,
   "metadata": {},
   "outputs": [],
   "source": [
    "import pandas as pd\n",
    "from geopy.distance import geodesic\n",
    "from joblib import Parallel, delayed"
   ]
  },
  {
   "cell_type": "code",
   "execution_count": 13,
   "metadata": {},
   "outputs": [],
   "source": [
    "light_pollution = pd.read_csv('light_pollution_2020.csv')\n",
    "county_coords = pd.read_csv('GEOINFO2023.GEOINFO-Data.csv')"
   ]
  },
  {
   "cell_type": "code",
   "execution_count": 15,
   "metadata": {},
   "outputs": [],
   "source": [
    "county_coords['INTPTLAT'] = pd.to_numeric(county_coords['INTPTLAT'], errors='coerce')\n",
    "county_coords['INTPTLON'] = pd.to_numeric(county_coords['INTPTLON'], errors='coerce')\n",
    "light_pollution['Latitude'] = pd.to_numeric(light_pollution['Latitude'], errors='coerce')\n",
    "light_pollution['Longitude'] = pd.to_numeric(light_pollution['Longitude'], errors='coerce')\n"
   ]
  },
  {
   "cell_type": "code",
   "execution_count": 16,
   "metadata": {},
   "outputs": [],
   "source": [
    "county_coords = county_coords.dropna(subset=['INTPTLAT', 'INTPTLON'])\n",
    "light_pollution = light_pollution.dropna(subset=['Latitude', 'Longitude'])"
   ]
  },
  {
   "cell_type": "code",
   "execution_count": 18,
   "metadata": {},
   "outputs": [],
   "source": [
    "def find_nearest_county(lat, lon, county_coords):\n",
    "    distances = county_coords.apply(\n",
    "        lambda county: geodesic((lat, lon), (county['INTPTLAT'], county['INTPTLON'])).km,\n",
    "        axis=1\n",
    "    )\n",
    "    nearest_idx = distances.idxmin()\n",
    "    return county_coords.loc[nearest_idx, 'NAME']"
   ]
  },
  {
   "cell_type": "code",
   "execution_count": null,
   "metadata": {},
   "outputs": [],
   "source": [
    "light_pollution['Nearest_County'] = Parallel(n_jobs=-1)(  # n_jobs=-1 使用所有可用核心\n",
    "    delayed(find_nearest_county)(row['Latitude'], row['Longitude'], county_coords)\n",
    "    for _, row in light_pollution.iterrows()\n",
    ")"
   ]
  },
  {
   "cell_type": "code",
   "execution_count": 9,
   "metadata": {},
   "outputs": [],
   "source": [
    "_, indices = tree.query(pollution_points)\n"
   ]
  },
  {
   "cell_type": "code",
   "execution_count": 10,
   "metadata": {},
   "outputs": [],
   "source": [
    "light_pollution['Nearest_County'] = county_coords.iloc[indices]['NAME'].values\n"
   ]
  },
  {
   "cell_type": "code",
   "execution_count": 11,
   "metadata": {},
   "outputs": [],
   "source": [
    "county_light_pollution = light_pollution.groupby('Nearest_County')['Brightness'].sum().reset_index()\n"
   ]
  },
  {
   "cell_type": "code",
   "execution_count": 12,
   "metadata": {},
   "outputs": [],
   "source": [
    "county_light_pollution.to_csv('county_light_pollution_2020.csv', index=False)"
   ]
  }
 ],
 "metadata": {
  "kernelspec": {
   "display_name": "base",
   "language": "python",
   "name": "python3"
  },
  "language_info": {
   "codemirror_mode": {
    "name": "ipython",
    "version": 3
   },
   "file_extension": ".py",
   "mimetype": "text/x-python",
   "name": "python",
   "nbconvert_exporter": "python",
   "pygments_lexer": "ipython3",
   "version": "3.12.7"
  }
 },
 "nbformat": 4,
 "nbformat_minor": 2
}
