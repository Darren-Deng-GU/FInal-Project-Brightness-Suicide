{
 "cells": [
  {
   "cell_type": "code",
   "execution_count": 1,
   "metadata": {},
   "outputs": [],
   "source": [
    "import rasterio\n",
    "import pandas as pd\n",
    "import glob\n"
   ]
  },
  {
   "cell_type": "code",
   "execution_count": null,
   "metadata": {},
   "outputs": [],
   "source": [
    "import rasterio\n",
    "import matplotlib.pyplot as plt\n",
    "\n",
    "# Open TIF file\n",
    "file_path = \"path/to/your/file.tif\"\n",
    "with rasterio.open(file_path) as src:\n",
    "    data = src.read(1)  # Read the first band\n",
    "    plt.imshow(data, cmap=\"viridis\")\n",
    "    plt.colorbar(label=\"Brightness\")\n",
    "    plt.title(\"Light Pollution Intensity\")\n",
    "    plt.show()\n"
   ]
  },
  {
   "cell_type": "code",
   "execution_count": null,
   "metadata": {},
   "outputs": [],
   "source": [
    "import pandas as pd\n",
    "\n",
    "# Get the pixel value and its latitude and longitude\n",
    "with rasterio.open(file_path) as src:\n",
    "    data = src.read(1)\n",
    "    coords = [(src.xy(row, col), data[row, col])\n",
    "              for row in range(data.shape[0])\n",
    "              for col in range(data.shape[1]) if data[row, col] > 0]\n",
    "\n",
    "# Convert to DataFrame and save as CSV\n",
    "df = pd.DataFrame(coords, columns=[\"Coordinates\", \"Brightness\"])\n",
    "df[\"Latitude\"] = [coord[0][0] for coord in coords]\n",
    "df[\"Longitude\"] = [coord[0][1] for coord in coords]\n",
    "df[\"Brightness\"] = [coord[1] for coord in coords]\n",
    "df.to_csv(\"light_pollution_data.csv\", index=False)"
   ]
  }
 ],
 "metadata": {
  "kernelspec": {
   "display_name": "base",
   "language": "python",
   "name": "python3"
  },
  "language_info": {
   "codemirror_mode": {
    "name": "ipython",
    "version": 3
   },
   "file_extension": ".py",
   "mimetype": "text/x-python",
   "name": "python",
   "nbconvert_exporter": "python",
   "pygments_lexer": "ipython3",
   "version": "3.12.7"
  }
 },
 "nbformat": 4,
 "nbformat_minor": 2
}
