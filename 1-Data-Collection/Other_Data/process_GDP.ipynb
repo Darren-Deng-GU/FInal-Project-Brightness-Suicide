{
 "cells": [
  {
   "cell_type": "code",
   "execution_count": 2,
   "metadata": {},
   "outputs": [],
   "source": [
    "import pandas as pd"
   ]
  },
  {
   "cell_type": "code",
   "execution_count": 3,
   "metadata": {},
   "outputs": [
    {
     "name": "stdout",
     "output_type": "stream",
     "text": [
      "  GeoFips     GeoName  LineCode  \\\n",
      "0   36000    New York       1.0   \n",
      "1   36000    New York       2.0   \n",
      "2   36000    New York       3.0   \n",
      "3   36001  Albany, NY       1.0   \n",
      "4   36001  Albany, NY       2.0   \n",
      "\n",
      "                                         Description          2001  \\\n",
      "0       Real GDP (thousands of chained 2017 dollars)  1.240755e+09   \n",
      "1           Chain-type quantity indexes for real GDP  7.636400e+01   \n",
      "2  Current-dollar GDP (thousands of current dollars)  8.762852e+08   \n",
      "3       Real GDP (thousands of chained 2017 dollars)  2.561974e+07   \n",
      "4           Chain-type quantity indexes for real GDP  8.071000e+01   \n",
      "\n",
      "           2002          2003          2004          2005          2006  ...  \\\n",
      "0  1.228581e+09  1.236563e+09  1.269433e+09  1.301438e+09  1.339569e+09  ...   \n",
      "1  7.561400e+01  7.610600e+01  7.812900e+01  8.009800e+01  8.244500e+01  ...   \n",
      "2  8.853862e+08  9.085352e+08  9.585653e+08  1.009851e+09  1.072272e+09  ...   \n",
      "3  2.555934e+07  2.634164e+07  2.665855e+07  2.680944e+07  2.673331e+07  ...   \n",
      "4  8.052000e+01  8.298400e+01  8.398300e+01  8.445800e+01  8.421800e+01  ...   \n",
      "\n",
      "           2013          2014          2015          2016          2017  \\\n",
      "0  1.501818e+09  1.535376e+09  1.565835e+09  1.590568e+09  1.624801e+09   \n",
      "1  9.243100e+01  9.449600e+01  9.637100e+01  9.789300e+01  1.000000e+02   \n",
      "2  1.364633e+09  1.434606e+09  1.498475e+09  1.556830e+09  1.624801e+09   \n",
      "3  2.943146e+07  3.032996e+07  3.096495e+07  3.161703e+07  3.174289e+07   \n",
      "4  9.271800e+01  9.554900e+01  9.754900e+01  9.960300e+01  1.000000e+02   \n",
      "\n",
      "           2018          2019          2020          2021          2022  \n",
      "0  1.665187e+09  1.709751e+09  1.650567e+09  1.724472e+09  1.763525e+09  \n",
      "1  1.024860e+02  1.052280e+02  1.015860e+02  1.061340e+02  1.085380e+02  \n",
      "2  1.710666e+09  1.793261e+09  1.766857e+09  1.911346e+09  2.048403e+09  \n",
      "3  3.179388e+07  3.299993e+07  3.215371e+07  3.456020e+07  3.534428e+07  \n",
      "4  1.001610e+02  1.039600e+02  1.012940e+02  1.088750e+02  1.113450e+02  \n",
      "\n",
      "[5 rows x 26 columns]\n"
     ]
    }
   ],
   "source": [
    "file_path = 'NEW_YORK_GDP.csv'\n",
    "\n",
    "# 忽略前3行\n",
    "df = pd.read_csv(file_path, skiprows=3, sep=',')\n",
    "print(df.head())  # 查看前几行，确认是否读取正确\n",
    " # 如果是用制表符分隔\n"
   ]
  },
  {
   "cell_type": "code",
   "execution_count": 4,
   "metadata": {},
   "outputs": [
    {
     "name": "stdout",
     "output_type": "stream",
     "text": [
      "Index(['GeoFips', 'GeoName', 'LineCode', 'Description', '2001', '2002', '2003',\n",
      "       '2004', '2005', '2006', '2007', '2008', '2009', '2010', '2011', '2012',\n",
      "       '2013', '2014', '2015', '2016', '2017', '2018', '2019', '2020', '2021',\n",
      "       '2022'],\n",
      "      dtype='object')\n"
     ]
    }
   ],
   "source": [
    "print(df.columns)\n"
   ]
  },
  {
   "cell_type": "code",
   "execution_count": 9,
   "metadata": {},
   "outputs": [
    {
     "name": "stdout",
     "output_type": "stream",
     "text": [
      "   GeoFips       GeoName  LineCode  \\\n",
      "0    36000      New York       1.0   \n",
      "3    36001    Albany, NY       1.0   \n",
      "6    36003  Allegany, NY       1.0   \n",
      "9    36005     Bronx, NY       1.0   \n",
      "12   36007    Broome, NY       1.0   \n",
      "\n",
      "                                     Description          2001          2002  \\\n",
      "0   Real GDP (thousands of chained 2017 dollars)  1.240755e+09  1.228581e+09   \n",
      "3   Real GDP (thousands of chained 2017 dollars)  2.561974e+07  2.555934e+07   \n",
      "6   Real GDP (thousands of chained 2017 dollars)  1.294568e+06  1.316067e+06   \n",
      "9   Real GDP (thousands of chained 2017 dollars)  3.277826e+07  3.305062e+07   \n",
      "12  Real GDP (thousands of chained 2017 dollars)  8.177807e+06  8.076697e+06   \n",
      "\n",
      "            2003          2004          2005          2006  ...          2013  \\\n",
      "0   1.236563e+09  1.269433e+09  1.301438e+09  1.339569e+09  ...  1.501818e+09   \n",
      "3   2.634164e+07  2.665855e+07  2.680944e+07  2.673331e+07  ...  2.943146e+07   \n",
      "6   1.350421e+06  1.365139e+06  1.387625e+06  1.365150e+06  ...  1.407913e+06   \n",
      "9   3.334089e+07  3.373395e+07  3.410959e+07  3.389047e+07  ...  3.801557e+07   \n",
      "12  8.001446e+06  7.946599e+06  7.997363e+06  8.248067e+06  ...  9.306605e+06   \n",
      "\n",
      "            2014          2015          2016          2017          2018  \\\n",
      "0   1.535376e+09  1.565835e+09  1.590568e+09  1.624801e+09  1.665187e+09   \n",
      "3   3.032996e+07  3.096495e+07  3.161703e+07  3.174289e+07  3.179388e+07   \n",
      "6   1.493870e+06  1.466756e+06  1.439469e+06  1.697623e+06  1.661773e+06   \n",
      "9   3.844502e+07  3.860916e+07  3.959045e+07  3.947654e+07  4.286124e+07   \n",
      "12  9.125273e+06  9.047065e+06  8.915673e+06  9.063798e+06  9.031322e+06   \n",
      "\n",
      "            2019          2020          2021          2022  \n",
      "0   1.709751e+09  1.650567e+09  1.724472e+09  1.763525e+09  \n",
      "3   3.299993e+07  3.215371e+07  3.456020e+07  3.534428e+07  \n",
      "6   1.723115e+06  1.503822e+06  1.440041e+06  1.455053e+06  \n",
      "9   4.465423e+07  4.264108e+07  4.319389e+07  4.367484e+07  \n",
      "12  9.235160e+06  8.765443e+06  9.094136e+06  9.113132e+06  \n",
      "\n",
      "[5 rows x 26 columns]\n"
     ]
    }
   ],
   "source": [
    "real_gdp_df = df[df['Description'] == 'Real GDP (thousands of chained 2017 dollars)']  # 筛选 'Real GDP'\n",
    "print(real_gdp_df.head())"
   ]
  },
  {
   "cell_type": "code",
   "execution_count": 10,
   "metadata": {},
   "outputs": [
    {
     "name": "stdout",
     "output_type": "stream",
     "text": [
      "     County_Name  Real_GDP_2019\n",
      "0       New York   1.709751e+09\n",
      "3     Albany, NY   3.299993e+07\n",
      "6   Allegany, NY   1.723115e+06\n",
      "9      Bronx, NY   4.465423e+07\n",
      "12    Broome, NY   9.235160e+06\n"
     ]
    }
   ],
   "source": [
    "real_gdp_2019 = real_gdp_df[['GeoName', '2019']]  # 提取 GeoName 和 2019 列\n",
    "real_gdp_2019.columns = ['County_Name', 'Real_GDP_2019']  # 重命名列\n",
    "print(real_gdp_2019.head())  # 确认数据"
   ]
  },
  {
   "cell_type": "code",
   "execution_count": 11,
   "metadata": {},
   "outputs": [
    {
     "name": "stderr",
     "output_type": "stream",
     "text": [
      "C:\\Users\\29468\\AppData\\Local\\Temp\\ipykernel_11256\\2320973099.py:1: SettingWithCopyWarning: \n",
      "A value is trying to be set on a copy of a slice from a DataFrame.\n",
      "Try using .loc[row_indexer,col_indexer] = value instead\n",
      "\n",
      "See the caveats in the documentation: https://pandas.pydata.org/pandas-docs/stable/user_guide/indexing.html#returning-a-view-versus-a-copy\n",
      "  real_gdp_2019['County_Name'] = real_gdp_2019['County_Name'].str.replace(', NY', '')\n"
     ]
    }
   ],
   "source": [
    "real_gdp_2019['County_Name'] = real_gdp_2019['County_Name'].str.replace(', NY', '')"
   ]
  },
  {
   "cell_type": "code",
   "execution_count": 14,
   "metadata": {},
   "outputs": [
    {
     "name": "stdout",
     "output_type": "stream",
     "text": [
      "文件已保存到 Filtered_REAL_GDP_2019.csv\n"
     ]
    }
   ],
   "source": [
    "# 删除第一行\n",
    "real_gdp_2019 = real_gdp_2019.iloc[1:]\n",
    "\n",
    "# 再次导出为 CSV 文件\n",
    "output_file = 'Filtered_REAL_GDP_2019.csv'\n",
    "real_gdp_2019.to_csv(output_file, index=False)\n",
    "print(f'文件已保存到 {output_file}')\n"
   ]
  }
 ],
 "metadata": {
  "kernelspec": {
   "display_name": "base",
   "language": "python",
   "name": "python3"
  },
  "language_info": {
   "codemirror_mode": {
    "name": "ipython",
    "version": 3
   },
   "file_extension": ".py",
   "mimetype": "text/x-python",
   "name": "python",
   "nbconvert_exporter": "python",
   "pygments_lexer": "ipython3",
   "version": "3.12.7"
  }
 },
 "nbformat": 4,
 "nbformat_minor": 2
}
