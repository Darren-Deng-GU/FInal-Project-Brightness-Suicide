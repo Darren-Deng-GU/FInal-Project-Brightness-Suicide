{
 "cells": [
  {
   "cell_type": "code",
   "execution_count": 10,
   "metadata": {},
   "outputs": [
    {
     "name": "stdout",
     "output_type": "stream",
     "text": [
      "过滤后的数据已保存为 Filtered_Estimates.csv\n"
     ]
    }
   ],
   "source": [
    "import pandas as pd\n",
    "\n",
    "# 读取文件\n",
    "file_path = '2019_1yr.csv'  # 替换为你的文件路径\n",
    "df = pd.read_csv(file_path)\n",
    "\n",
    "# 筛选包含 'New York!!Estimate' 的列\n",
    "filtered_columns = [col for col in df.columns if 'New York!!Estimate' in col]\n",
    "filtered_df = df[filtered_columns]\n",
    "\n",
    "# 保存过滤后的数据\n",
    "output_file = 'Filtered_Estimates.csv'\n",
    "filtered_df.to_csv(output_file, index=False)\n",
    "\n",
    "print(f\"过滤后的数据已保存为 {output_file}\")\n"
   ]
  },
  {
   "cell_type": "code",
   "execution_count": 11,
   "metadata": {},
   "outputs": [
    {
     "name": "stdout",
     "output_type": "stream",
     "text": [
      "数据表中共有 79 列。\n",
      "列名如下：\n",
      "['Label (Grouping)', 'Albany County, New York!!Estimate', 'Albany County, New York!!Margin of Error', 'Bronx County, New York!!Estimate', 'Bronx County, New York!!Margin of Error', 'Broome County, New York!!Estimate', 'Broome County, New York!!Margin of Error', 'Cattaraugus County, New York!!Estimate', 'Cattaraugus County, New York!!Margin of Error', 'Cayuga County, New York!!Estimate', 'Cayuga County, New York!!Margin of Error', 'Chautauqua County, New York!!Estimate', 'Chautauqua County, New York!!Margin of Error', 'Chemung County, New York!!Estimate', 'Chemung County, New York!!Margin of Error', 'Clinton County, New York!!Estimate', 'Clinton County, New York!!Margin of Error', 'Dutchess County, New York!!Estimate', 'Dutchess County, New York!!Margin of Error', 'Erie County, New York!!Estimate', 'Erie County, New York!!Margin of Error', 'Jefferson County, New York!!Estimate', 'Jefferson County, New York!!Margin of Error', 'Kings County, New York!!Estimate', 'Kings County, New York!!Margin of Error', 'Livingston County, New York!!Estimate', 'Livingston County, New York!!Margin of Error', 'Madison County, New York!!Estimate', 'Madison County, New York!!Margin of Error', 'Monroe County, New York!!Estimate', 'Monroe County, New York!!Margin of Error', 'Nassau County, New York!!Estimate', 'Nassau County, New York!!Margin of Error', 'New York County, New York!!Estimate', 'New York County, New York!!Margin of Error', 'Niagara County, New York!!Estimate', 'Niagara County, New York!!Margin of Error', 'Oneida County, New York!!Estimate', 'Oneida County, New York!!Margin of Error', 'Onondaga County, New York!!Estimate', 'Onondaga County, New York!!Margin of Error', 'Ontario County, New York!!Estimate', 'Ontario County, New York!!Margin of Error', 'Orange County, New York!!Estimate', 'Orange County, New York!!Margin of Error', 'Oswego County, New York!!Estimate', 'Oswego County, New York!!Margin of Error', 'Putnam County, New York!!Estimate', 'Putnam County, New York!!Margin of Error', 'Queens County, New York!!Estimate', 'Queens County, New York!!Margin of Error', 'Rensselaer County, New York!!Estimate', 'Rensselaer County, New York!!Margin of Error', 'Richmond County, New York!!Estimate', 'Richmond County, New York!!Margin of Error', 'Rockland County, New York!!Estimate', 'Rockland County, New York!!Margin of Error', 'St. Lawrence County, New York!!Estimate', 'St. Lawrence County, New York!!Margin of Error', 'Saratoga County, New York!!Estimate', 'Saratoga County, New York!!Margin of Error', 'Schenectady County, New York!!Estimate', 'Schenectady County, New York!!Margin of Error', 'Steuben County, New York!!Estimate', 'Steuben County, New York!!Margin of Error', 'Suffolk County, New York!!Estimate', 'Suffolk County, New York!!Margin of Error', 'Sullivan County, New York!!Estimate', 'Sullivan County, New York!!Margin of Error', 'Tompkins County, New York!!Estimate', 'Tompkins County, New York!!Margin of Error', 'Ulster County, New York!!Estimate', 'Ulster County, New York!!Margin of Error', 'Warren County, New York!!Estimate', 'Warren County, New York!!Margin of Error', 'Wayne County, New York!!Estimate', 'Wayne County, New York!!Margin of Error', 'Westchester County, New York!!Estimate', 'Westchester County, New York!!Margin of Error']\n"
     ]
    }
   ],
   "source": [
    "# 查询总列数\n",
    "total_columns = len(df.columns)\n",
    "print(f\"数据表中共有 {total_columns} 列。\")\n",
    "\n",
    "# 显示所有列名\n",
    "print(\"列名如下：\")\n",
    "print(df.columns.tolist())\n"
   ]
  }
 ],
 "metadata": {
  "kernelspec": {
   "display_name": "base",
   "language": "python",
   "name": "python3"
  },
  "language_info": {
   "codemirror_mode": {
    "name": "ipython",
    "version": 3
   },
   "file_extension": ".py",
   "mimetype": "text/x-python",
   "name": "python",
   "nbconvert_exporter": "python",
   "pygments_lexer": "ipython3",
   "version": "3.12.7"
  }
 },
 "nbformat": 4,
 "nbformat_minor": 2
}
