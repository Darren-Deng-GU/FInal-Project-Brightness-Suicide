{
 "cells": [
  {
   "cell_type": "code",
   "execution_count": 1,
   "metadata": {},
   "outputs": [],
   "source": [
    "import pandas as pd"
   ]
  },
  {
   "cell_type": "code",
   "execution_count": 2,
   "metadata": {},
   "outputs": [],
   "source": [
    "merged_data = pd.read_csv('merged_data.csv')"
   ]
  },
  {
   "cell_type": "code",
   "execution_count": 3,
   "metadata": {},
   "outputs": [],
   "source": [
    "\n",
    "# 显式指定编码为 UTF-16\n",
    "new_data_1 = pd.read_csv('Depression_County_Bar_Full_Data.csv', encoding='utf-16', sep='\\t')\n",
    "new_data_2 = pd.read_csv('KPI_PTSD_County_Full_Data.csv', encoding= 'utf-16', sep='\\t')\n",
    "new_data_3 = pd.read_csv('KPI_County_Trauma_Full_Data.csv',encoding= 'utf-16', sep='\\t')\n",
    "new_data_4 = pd.read_csv('tree_cover_loss_2019_with_county_names_2019.csv')"
   ]
  },
  {
   "cell_type": "code",
   "execution_count": 4,
   "metadata": {},
   "outputs": [],
   "source": [
    "depression_data = new_data_1[['County Name', '# per 100K All Years']]"
   ]
  },
  {
   "cell_type": "code",
   "execution_count": 5,
   "metadata": {},
   "outputs": [],
   "source": [
    "PTSD_data = new_data_2[['County Name', '# per 100K All Years']]"
   ]
  },
  {
   "cell_type": "code",
   "execution_count": 6,
   "metadata": {},
   "outputs": [],
   "source": [
    "Trauma_data = new_data_3[['County Name', '# per 100K All Years']]"
   ]
  },
  {
   "cell_type": "code",
   "execution_count": 7,
   "metadata": {},
   "outputs": [],
   "source": [
    "Tree_Loss_data = new_data_4[['adm2', 'tree_cover_loss_2019', 'gross_emissions_co2e_all_gases_Mg_2019']]"
   ]
  },
  {
   "cell_type": "code",
   "execution_count": 8,
   "metadata": {},
   "outputs": [
    {
     "name": "stdout",
     "output_type": "stream",
     "text": [
      "   County Name  # per 100K All Years\n",
      "0       Albany             31.295277\n",
      "1     Allegany             23.162570\n",
      "2        Bronx             23.616869\n",
      "3       Broome             38.438121\n",
      "4  Cattaraugus             27.895255\n"
     ]
    }
   ],
   "source": [
    "print(depression_data.head())"
   ]
  },
  {
   "cell_type": "code",
   "execution_count": 9,
   "metadata": {},
   "outputs": [
    {
     "name": "stdout",
     "output_type": "stream",
     "text": [
      "   County Name  # per 100K All Years\n",
      "0       Albany             16.751414\n",
      "1     Allegany             15.012777\n",
      "2        Bronx              8.375497\n",
      "3       Broome             18.750303\n",
      "4  Cattaraugus             15.190485\n"
     ]
    }
   ],
   "source": [
    "print(PTSD_data.head())"
   ]
  },
  {
   "cell_type": "code",
   "execution_count": 10,
   "metadata": {},
   "outputs": [
    {
     "name": "stdout",
     "output_type": "stream",
     "text": [
      "   County Name  # per 100K All Years\n",
      "0       Albany                  67.5\n",
      "1     Allegany                  59.6\n",
      "2        Bronx                  33.4\n",
      "3       Broome                  78.9\n",
      "4  Cattaraugus                  72.6\n"
     ]
    }
   ],
   "source": [
    "print(Trauma_data.head())"
   ]
  },
  {
   "cell_type": "code",
   "execution_count": 11,
   "metadata": {},
   "outputs": [
    {
     "name": "stdout",
     "output_type": "stream",
     "text": [
      "          adm2  tree_cover_loss_2019  gross_emissions_co2e_all_gases_Mg_2019\n",
      "0       Albany             86.545789                            34314.949330\n",
      "1     Allegany             57.145777                            21474.348960\n",
      "2        Bronx              0.760569                              211.847613\n",
      "3       Broome             29.722720                            11696.567850\n",
      "4  Cattaraugus            146.849556                            58194.148060\n"
     ]
    }
   ],
   "source": [
    "print(Tree_Loss_data.head())"
   ]
  },
  {
   "cell_type": "code",
   "execution_count": 12,
   "metadata": {},
   "outputs": [
    {
     "name": "stdout",
     "output_type": "stream",
     "text": [
      "   County Name  Depression Rate(per 100k)\n",
      "0       Albany                  31.295277\n",
      "1     Allegany                  23.162570\n",
      "2        Bronx                  23.616869\n",
      "3       Broome                  38.438121\n",
      "4  Cattaraugus                  27.895255\n"
     ]
    }
   ],
   "source": [
    "depression_data = depression_data[['County Name', '# per 100K All Years']].copy()\n",
    "depression_data.rename(columns={'# per 100K All Years': 'Depression Rate(per 100k)'}, inplace=True)\n",
    "print(depression_data.head())"
   ]
  },
  {
   "cell_type": "code",
   "execution_count": 13,
   "metadata": {},
   "outputs": [
    {
     "name": "stdout",
     "output_type": "stream",
     "text": [
      "   County Name  PTSD rate (per 100k)\n",
      "0       Albany             16.751414\n",
      "1     Allegany             15.012777\n",
      "2        Bronx              8.375497\n",
      "3       Broome             18.750303\n",
      "4  Cattaraugus             15.190485\n"
     ]
    }
   ],
   "source": [
    "PTSD_data = PTSD_data[['County Name', '# per 100K All Years']].copy()\n",
    "PTSD_data.rename(columns={'# per 100K All Years': 'PTSD rate (per 100k)'}, inplace=True)\n",
    "print(PTSD_data.head())\n"
   ]
  },
  {
   "cell_type": "code",
   "execution_count": 14,
   "metadata": {},
   "outputs": [
    {
     "name": "stdout",
     "output_type": "stream",
     "text": [
      "   County Name  Trauma rate (per 100k)\n",
      "0       Albany                    67.5\n",
      "1     Allegany                    59.6\n",
      "2        Bronx                    33.4\n",
      "3       Broome                    78.9\n",
      "4  Cattaraugus                    72.6\n"
     ]
    }
   ],
   "source": [
    "Trauma_data = Trauma_data[['County Name', '# per 100K All Years']].copy()\n",
    "Trauma_data.rename(columns={'# per 100K All Years': 'Trauma rate (per 100k)'}, inplace=True)\n",
    "print(Trauma_data.head())\n"
   ]
  },
  {
   "cell_type": "code",
   "execution_count": 15,
   "metadata": {},
   "outputs": [],
   "source": [
    "merged_data = merged_data.merge(depression_data, how='inner', left_on='County_Name', right_on='County Name')\n",
    "merged_data.drop(columns=['County Name'], inplace=True)"
   ]
  },
  {
   "cell_type": "code",
   "execution_count": 16,
   "metadata": {},
   "outputs": [],
   "source": [
    "merged_data = merged_data.merge(PTSD_data, how='inner', left_on='County_Name', right_on='County Name')\n",
    "merged_data.drop(columns=['County Name'], inplace=True)"
   ]
  },
  {
   "cell_type": "code",
   "execution_count": 17,
   "metadata": {},
   "outputs": [],
   "source": [
    "merged_data = merged_data.merge(Trauma_data, how='inner', left_on='County_Name', right_on='County Name')\n",
    "merged_data.drop(columns=['County Name'], inplace=True)"
   ]
  },
  {
   "cell_type": "code",
   "execution_count": 18,
   "metadata": {},
   "outputs": [],
   "source": [
    "merged_data = merged_data.merge(Tree_Loss_data, how='inner', left_on='County_Name', right_on='adm2')\n",
    "merged_data.drop(columns=['adm2'], inplace=True)\n"
   ]
  },
  {
   "cell_type": "code",
   "execution_count": 19,
   "metadata": {},
   "outputs": [
    {
     "name": "stdout",
     "output_type": "stream",
     "text": [
      "   County_Name  Brightness  Real_GDP_2019 Average Annual Count  \\\n",
      "0     Allegany      2694.3        1723115                    7   \n",
      "1        Bronx     81936.7       44654229                   77   \n",
      "2       Broome     18621.5        9235160                   21   \n",
      "3  Cattaraugus      6915.9        2912501                   11   \n",
      "4       Cayuga      7831.0        2901102                   11   \n",
      "\n",
      "  Age-Adjusted Death Rate(_) - deaths per 100,000  Depression Rate(per 100k)  \\\n",
      "0                                            17.3                  23.162570   \n",
      "1                                             5.2                  23.616869   \n",
      "2                                              11                  38.438121   \n",
      "3                                            15.8                  27.895255   \n",
      "4                                            14.5                  36.156890   \n",
      "\n",
      "   PTSD rate (per 100k)  Trauma rate (per 100k)  tree_cover_loss_2019  \\\n",
      "0             15.012777                    59.6             57.145777   \n",
      "1              8.375497                    33.4              0.760569   \n",
      "2             18.750303                    78.9             29.722720   \n",
      "3             15.190485                    72.6            146.849556   \n",
      "4             13.276358                    57.6             49.031172   \n",
      "\n",
      "   gross_emissions_co2e_all_gases_Mg_2019  \n",
      "0                            21474.348960  \n",
      "1                              211.847613  \n",
      "2                            11696.567850  \n",
      "3                            58194.148060  \n",
      "4                            17966.587740  \n"
     ]
    }
   ],
   "source": [
    "print(merged_data.head())"
   ]
  },
  {
   "cell_type": "code",
   "execution_count": 20,
   "metadata": {},
   "outputs": [],
   "source": [
    "merged_data.to_csv('merged_data_final.csv', index=False)"
   ]
  }
 ],
 "metadata": {
  "kernelspec": {
   "display_name": "base",
   "language": "python",
   "name": "python3"
  },
  "language_info": {
   "codemirror_mode": {
    "name": "ipython",
    "version": 3
   },
   "file_extension": ".py",
   "mimetype": "text/x-python",
   "name": "python",
   "nbconvert_exporter": "python",
   "pygments_lexer": "ipython3",
   "version": "3.12.7"
  }
 },
 "nbformat": 4,
 "nbformat_minor": 2
}
