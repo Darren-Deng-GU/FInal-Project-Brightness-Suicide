{
 "cells": [
  {
   "cell_type": "code",
   "execution_count": 1,
   "metadata": {},
   "outputs": [],
   "source": [
    "import pandas as pd\n"
   ]
  },
  {
   "cell_type": "code",
   "execution_count": 2,
   "metadata": {},
   "outputs": [],
   "source": [
    "light_index = pd.read_csv('county_light_index.csv')\n",
    "real_gdp = pd.read_csv('Filtered_REAL_GDP.csv')\n",
    "suicide_rate = pd.read_csv('HDPulse_data_filtered.csv')"
   ]
  },
  {
   "cell_type": "code",
   "execution_count": 3,
   "metadata": {},
   "outputs": [],
   "source": [
    "# 清洗县名函数\n",
    "def clean_county_name(name):\n",
    "    # 去除 \"County\"，移除多余空格\n",
    "    return name.replace(\" County\", \"\").strip()"
   ]
  },
  {
   "cell_type": "code",
   "execution_count": 4,
   "metadata": {},
   "outputs": [],
   "source": [
    "light_index['County_Name'] = light_index['County_Name'].apply(clean_county_name)\n",
    "real_gdp['County_Name'] = real_gdp['County_Name'].apply(clean_county_name)\n",
    "suicide_rate['County'] = suicide_rate['County'].apply(clean_county_name)"
   ]
  },
  {
   "cell_type": "code",
   "execution_count": null,
   "metadata": {},
   "outputs": [],
   "source": []
  },
  {
   "cell_type": "code",
   "execution_count": 5,
   "metadata": {},
   "outputs": [],
   "source": [
    "merged_data = light_index.merge(real_gdp, on='County_Name', how='inner')\n",
    "merged_data = merged_data.merge(suicide_rate, left_on='County_Name', right_on='County', how='inner')\n"
   ]
  },
  {
   "cell_type": "code",
   "execution_count": 6,
   "metadata": {},
   "outputs": [],
   "source": [
    "merged_data.drop(columns=['County'], inplace=True)"
   ]
  },
  {
   "cell_type": "code",
   "execution_count": 7,
   "metadata": {},
   "outputs": [],
   "source": [
    "merged_data.to_csv('merged_data.csv', index=False)"
   ]
  }
 ],
 "metadata": {
  "kernelspec": {
   "display_name": "base",
   "language": "python",
   "name": "python3"
  },
  "language_info": {
   "codemirror_mode": {
    "name": "ipython",
    "version": 3
   },
   "file_extension": ".py",
   "mimetype": "text/x-python",
   "name": "python",
   "nbconvert_exporter": "python",
   "pygments_lexer": "ipython3",
   "version": "3.12.7"
  }
 },
 "nbformat": 4,
 "nbformat_minor": 2
}
